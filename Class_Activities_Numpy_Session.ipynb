{
 "cells": [
  {
   "cell_type": "markdown",
   "metadata": {},
   "source": [
    "# QNO1"
   ]
  },
  {
   "cell_type": "code",
   "execution_count": 3,
   "metadata": {},
   "outputs": [
    {
     "data": {
      "text/plain": [
       "array([1, 2, 3, 4, 5])"
      ]
     },
     "execution_count": 3,
     "metadata": {},
     "output_type": "execute_result"
    }
   ],
   "source": [
    "import numpy as np\n",
    "arr1 = np.array([1,2,3,4,5])\n",
    "arr1"
   ]
  },
  {
   "cell_type": "code",
   "execution_count": 4,
   "metadata": {},
   "outputs": [
    {
     "name": "stdout",
     "output_type": "stream",
     "text": [
      "[[1 2 3]\n",
      " [4 5 6]\n",
      " [7 8 9]]\n"
     ]
    }
   ],
   "source": [
    "arr2 = np.array([[1,2,3],[4,5,6],[7,8,9]])\n",
    "print(arr2)\n"
   ]
  },
  {
   "cell_type": "code",
   "execution_count": 5,
   "metadata": {},
   "outputs": [
    {
     "name": "stdout",
     "output_type": "stream",
     "text": [
      "[[[1. 1. 1. 1. 1.]\n",
      "  [1. 1. 1. 1. 1.]\n",
      "  [1. 1. 1. 1. 1.]\n",
      "  [1. 1. 1. 1. 1.]]\n",
      "\n",
      " [[1. 1. 1. 1. 1.]\n",
      "  [1. 1. 1. 1. 1.]\n",
      "  [1. 1. 1. 1. 1.]\n",
      "  [1. 1. 1. 1. 1.]]\n",
      "\n",
      " [[1. 1. 1. 1. 1.]\n",
      "  [1. 1. 1. 1. 1.]\n",
      "  [1. 1. 1. 1. 1.]\n",
      "  [1. 1. 1. 1. 1.]]]\n"
     ]
    }
   ],
   "source": [
    "import numpy as np\n",
    "data = np.arange(60)\n",
    "tensor = np.ones((3, 4, 5))\n",
    "print(tensor)\n"
   ]
  },
  {
   "cell_type": "code",
   "execution_count": 6,
   "metadata": {},
   "outputs": [
    {
     "name": "stdout",
     "output_type": "stream",
     "text": [
      "[2 4 6 8]\n"
     ]
    }
   ],
   "source": [
    "data = np.array([1, 2, 3, 4, 5, 6, 7, 8, 9])\n",
    "even_nums = data[data % 2 == 0]\n",
    "print(even_nums)\n"
   ]
  },
  {
   "cell_type": "code",
   "execution_count": 7,
   "metadata": {},
   "outputs": [
    {
     "data": {
      "text/plain": [
       "array([[10, 11, 12, 13, 14],\n",
       "       [20, 21, 22, 23, 24],\n",
       "       [30, 31, 32, 33, 34],\n",
       "       [40, 41, 42, 43, 44],\n",
       "       [50, 51, 52, 53, 54]])"
      ]
     },
     "execution_count": 7,
     "metadata": {},
     "output_type": "execute_result"
    }
   ],
   "source": [
    "a = np.array([np.arange(i,i + 5) for i in range(10, 60, 10)])\n",
    "a"
   ]
  },
  {
   "cell_type": "code",
   "execution_count": 8,
   "metadata": {},
   "outputs": [
    {
     "name": "stdout",
     "output_type": "stream",
     "text": [
      "[[1 2 3]\n",
      " [4 5 6]\n",
      " [7 8 9]]\n"
     ]
    }
   ],
   "source": [
    "arr = np.array([[1,2,3],[4,5,6],[7,8,9]])\n",
    "print(arr)\n"
   ]
  },
  {
   "cell_type": "markdown",
   "metadata": {},
   "source": [
    "# QNO2"
   ]
  },
  {
   "cell_type": "code",
   "execution_count": 9,
   "metadata": {},
   "outputs": [
    {
     "data": {
      "text/plain": [
       "array([[ 10,  20,  30,  40,  50],\n",
       "       [ 60,  70,  80,  90, 100],\n",
       "       [110, 120, 130, 140, 150],\n",
       "       [160, 170, 180, 190, 200],\n",
       "       [210, 220, 230, 240, 250]])"
      ]
     },
     "execution_count": 9,
     "metadata": {},
     "output_type": "execute_result"
    }
   ],
   "source": [
    "\n",
    "arr4 = np.array([[10, 20, 30, 40, 50],\n",
    "                  [60, 70, 80, 90, 100],\n",
    "                  [110, 120, 130, 140, 150],\n",
    "                  [160, 170, 180, 190, 200],\n",
    "                  [210, 220, 230, 240, 250]])\n",
    "data = arr4[:, :]\n",
    "data\n"
   ]
  },
  {
   "cell_type": "code",
   "execution_count": 10,
   "metadata": {},
   "outputs": [
    {
     "data": {
      "text/plain": [
       "array([[75.2, 78.3, 81.5, 79. , 82.1],\n",
       "       [71.6, 73.8, 77.4, 79.8, 84.1],\n",
       "       [73.2, 75.1, 76.8, 78.9, 82.5],\n",
       "       [75. , 77. , 79. , 81. , 83. ],\n",
       "       [76.4, 79.3, 81.2, 82.1, 84.5]])"
      ]
     },
     "execution_count": 10,
     "metadata": {},
     "output_type": "execute_result"
    }
   ],
   "source": [
    "arr5 = np.array([[75.2,78.3,81.5,79.0,82.1],\n",
    "                 [71.6,73.8,77.4,79.8,84.1],\n",
    "                 [73.2,75.1,76.8,78.9,82.5],\n",
    "                 [75.0,77.0,79.0,81.0,83.0],\n",
    "                 [76.4,79.3,81.2,82.1,84.5]])\n",
    "data = arr5[:, :]\n",
    "data"
   ]
  },
  {
   "cell_type": "code",
   "execution_count": 11,
   "metadata": {},
   "outputs": [
    {
     "data": {
      "text/plain": [
       "array([[50.2, 53.3, 56.5, 59. , 62.1],\n",
       "       [62.1, 62.8, 63.4, 63.8, 64.1],\n",
       "       [71.1, 71.2, 71.3, 71.4, 71.5]])"
      ]
     },
     "execution_count": 11,
     "metadata": {},
     "output_type": "execute_result"
    }
   ],
   "source": [
    "arr6 = np.array([[50.2,53.3,56.5,59.0,62.1],\n",
    "                 [62.1,62.8,63.4,63.8,64.1],\n",
    "                 [71.1,71.2,71.3,71.4,71.5]])\n",
    "data = arr6[:, :]\n",
    "data \n"
   ]
  },
  {
   "cell_type": "code",
   "execution_count": 12,
   "metadata": {},
   "outputs": [
    {
     "data": {
      "text/plain": [
       "array([[85, 92, 78],\n",
       "       [75, 72, 84],\n",
       "       [80, 81, 86],\n",
       "       [77, 90, 81]])"
      ]
     },
     "execution_count": 12,
     "metadata": {},
     "output_type": "execute_result"
    }
   ],
   "source": [
    "arr7 = np.array([[85,92,78],\n",
    "                 [75,72,84],\n",
    "                 [80,81,86],\n",
    "                 [77,90,81]])\n",
    "data = arr7[:, :]\n",
    "data"
   ]
  },
  {
   "cell_type": "markdown",
   "metadata": {},
   "source": [
    "# QNO3"
   ]
  },
  {
   "cell_type": "code",
   "execution_count": 13,
   "metadata": {},
   "outputs": [],
   "source": [
    "import numpy as np\n",
    "\n",
    "# Define the 3D array\n",
    "cube = np.array([[[1, 2, 3, 4, 5],\n",
    "                  [6, 7, 8, 9, 10],\n",
    "                  [11, 12, 13, 14, 15],\n",
    "                  [16, 17, 18, 19, 20]],\n",
    "                 \n",
    "                 [[21, 22, 23, 24, 25],\n",
    "                  [26, 27, 28, 29, 30],\n",
    "                  [31, 32, 33, 34, 35],\n",
    "                  [36, 37, 38, 39, 40]],\n",
    "                 \n",
    "                 [[41, 42, 43, 44, 45],\n",
    "                  [46, 47, 48, 49, 50],\n",
    "                  [51, 52, 53, 54, 55],\n",
    "                  [56, 57, 58, 59, 60]]])\n",
    "\n",
    "\n"
   ]
  },
  {
   "cell_type": "code",
   "execution_count": 16,
   "metadata": {},
   "outputs": [
    {
     "name": "stdout",
     "output_type": "stream",
     "text": [
      " (2, 3, 4): 60\n"
     ]
    }
   ],
   "source": [
    "element = cube[2, 3, 4]\n",
    "print(\" (2, 3, 4):\", element)"
   ]
  },
  {
   "cell_type": "code",
   "execution_count": 17,
   "metadata": {},
   "outputs": [
    {
     "name": "stdout",
     "output_type": "stream",
     "text": [
      "[[21 22 23 24 25]\n",
      " [26 27 28 29 30]\n",
      " [31 32 33 34 35]\n",
      " [36 37 38 39 40]]\n"
     ]
    }
   ],
   "source": [
    "second_2d_array = cube[1, :, :]\n",
    "print( second_2d_array)\n"
   ]
  },
  {
   "cell_type": "code",
   "execution_count": 18,
   "metadata": {},
   "outputs": [
    {
     "name": "stdout",
     "output_type": "stream",
     "text": [
      "[21 22 23 24 25]\n"
     ]
    }
   ],
   "source": [
    "first_row = cube[1, 0, :]\n",
    "print( first_row)"
   ]
  },
  {
   "cell_type": "code",
   "execution_count": 19,
   "metadata": {},
   "outputs": [
    {
     "name": "stdout",
     "output_type": "stream",
     "text": [
      "[[47 48 49]\n",
      " [52 53 54]]\n"
     ]
    }
   ],
   "source": [
    "sub_matrix = cube[2, 1:3, 1:4]\n",
    "print( sub_matrix)"
   ]
  },
  {
   "cell_type": "code",
   "execution_count": 22,
   "metadata": {},
   "outputs": [
    {
     "name": "stdout",
     "output_type": "stream",
     "text": [
      "Element at coordinates (2, 1, 2): 260\n",
      "2D array at depth 3:\n",
      " [[310 320 330]\n",
      " [340 350 360]\n",
      " [370 380 390]]\n",
      "Last column of the first 2D array at depth 1: [130 160 190]\n",
      "2x2 sub-matrix from the third 2D array at depth 2 starting from (0, 1):\n",
      " [[240 250]\n",
      " [270 280]]\n"
     ]
    }
   ],
   "source": [
    "import numpy as np\n",
    "\n",
    "# Define the 3D array\n",
    "data_cube = np.array([[[10, 20, 30],\n",
    "                       [40, 50, 60],\n",
    "                       [70, 80, 90]],\n",
    "                      \n",
    "                      [[110, 120, 130],\n",
    "                       [140, 150, 160],\n",
    "                       [170, 180, 190]],\n",
    "                      \n",
    "                      [[210, 220, 230],\n",
    "                       [240, 250, 260],\n",
    "                       [270, 280, 290]],\n",
    "                      \n",
    "                      [[310, 320, 330],\n",
    "                       [340, 350, 360],\n",
    "                       [370, 380, 390]]])\n",
    "\n",
    "# Extract the element at coordinates 2, 1, 2.\n",
    "element = data_cube[2, 1, 2]\n",
    "print(\"Element at coordinates (2, 1, 2):\", element)\n",
    "\n",
    "# Extract the entire 2D array at depth 3.\n",
    "depth_3_array = data_cube[3, :, :]\n",
    "print(\"2D array at depth 3:\\n\", depth_3_array)\n",
    "\n",
    "# Extract the last column of the first 2D array at depth 1.\n",
    "last_column = data_cube[1, :, -1]\n",
    "print(\"Last column of the first 2D array at depth 1:\", last_column)\n",
    "\n",
    "# Extract a 2x2 sub-matrix from the third 2D array at depth 2 starting from the coordinates (0, 1).\n",
    "sub_matrix = data_cube[2, 1:3, 0:2]\n",
    "print(\"2x2 sub-matrix from the third 2D array at depth 2 starting from (0, 1):\\n\", sub_matrix)"
   ]
  },
  {
   "cell_type": "code",
   "execution_count": null,
   "metadata": {},
   "outputs": [],
   "source": []
  },
  {
   "cell_type": "code",
   "execution_count": 58,
   "metadata": {},
   "outputs": [
    {
     "name": "stdout",
     "output_type": "stream",
     "text": [
      "RGB value at coordinates (1, 2, 3): 0\n"
     ]
    }
   ],
   "source": [
    "import numpy as np\n",
    "\n",
    "# Define the 3D array\n",
    "color_cube = np.array([[[255, 0, 0],\n",
    "                        [0, 255, 0],\n",
    "                        [0, 0, 255]],\n",
    "                       \n",
    "                       [[128, 128, 0],\n",
    "                        [0, 128, 128],\n",
    "                        [128, 0, 128]]])\n",
    "\n",
    "# Extract the RGB value at coordinates (1, 2, 3)\n",
    "rgb_value = color_cube[1, 2, 1]\n",
    "print(\"RGB value at coordinates (1, 2, 3):\", rgb_value)\n",
    "\n",
    "\n"
   ]
  },
  {
   "cell_type": "code",
   "execution_count": 59,
   "metadata": {},
   "outputs": [
    {
     "name": "stdout",
     "output_type": "stream",
     "text": [
      "2D array at depth 1:\n",
      " [[128 128   0]\n",
      " [  0 128 128]\n",
      " [128   0 128]]\n"
     ]
    }
   ],
   "source": [
    "# Extract the entire 2D array at depth 1\n",
    "depth_1_array = color_cube[1, :, :]\n",
    "print(\"2D array at depth 1:\\n\", depth_1_array)\n"
   ]
  },
  {
   "cell_type": "code",
   "execution_count": 60,
   "metadata": {},
   "outputs": [
    {
     "name": "stdout",
     "output_type": "stream",
     "text": [
      "Green channel from the 2D array at depth 0: [  0 255   0]\n"
     ]
    }
   ],
   "source": [
    "\n",
    "# Extract the green channel (middle value) from the 2D array at depth 0\n",
    "green_channel = color_cube[0, :, 1]\n",
    "print(\"Green channel from the 2D array at depth 0:\", green_channel)"
   ]
  },
  {
   "cell_type": "code",
   "execution_count": 61,
   "metadata": {},
   "outputs": [
    {
     "name": "stdout",
     "output_type": "stream",
     "text": [
      "2x2 sub-matrix from the first 2D array at depth 0 starting from (0, 1):\n",
      " [[  0 255]\n",
      " [  0   0]]\n"
     ]
    }
   ],
   "source": [
    "# Extract a 2x2 sub-matrix from the first 2D array at depth 0 starting from the coordinates (0, 1)\n",
    "sub_matrix = color_cube[0, 1:3, 0:2]\n",
    "print(\"2x2 sub-matrix from the first 2D array at depth 0 starting from (0, 1):\\n\", sub_matrix)"
   ]
  },
  {
   "cell_type": "markdown",
   "metadata": {},
   "source": [
    "# QNO4"
   ]
  },
  {
   "cell_type": "code",
   "execution_count": 63,
   "metadata": {},
   "outputs": [
    {
     "name": "stdout",
     "output_type": "stream",
     "text": [
      "Elements greater than 8: [ 9 10 11 12 13 14 15 16]\n",
      "Elements divisible by 3: [ 3  6  9 12 15]\n"
     ]
    }
   ],
   "source": [
    "import numpy as np\n",
    "\n",
    "# Define the 2D array\n",
    "matrix = np.array([[1, 2, 3, 4],\n",
    "                   [5, 6, 7, 8],\n",
    "                   [9, 10, 11, 12],\n",
    "                   [13, 14, 15, 16]])\n",
    "\n",
    "# a) Find all elements in the 2D array matrix that are greater than 8.\n",
    "greater_than_8 = matrix[matrix > 8]\n",
    "print(\"Elements greater than 8:\", greater_than_8)\n",
    "\n",
    "# b) Extract a sub-array from the 2D array matrix containing all elements that are divisible by 3.\n",
    "divisible_by_3 = matrix[matrix % 3 == 0]\n",
    "print(\"Elements divisible by 3:\", divisible_by_3)\n"
   ]
  },
  {
   "cell_type": "code",
   "execution_count": 64,
   "metadata": {},
   "outputs": [
    {
     "name": "stdout",
     "output_type": "stream",
     "text": [
      "Elements greater than 100: [110 120 130 140 150 160 170 180 190 210 220 230 240 250 260 270 280 290\n",
      " 310 320 330 340 350 360 370 380 390]\n",
      "Elements divisible by 20: [ 20  40  60  80 120 140 160 180 220 240 260 280 320 340 360 380]\n",
      "Elements between 250 and 350: [260 270 280 290 310 320 330 340]\n"
     ]
    }
   ],
   "source": [
    "import numpy as np\n",
    "\n",
    "# Define the 3D array\n",
    "data_cube = np.array([[[10, 20, 30],\n",
    "                       [40, 50, 60],\n",
    "                       [70, 80, 90]],\n",
    "                      \n",
    "                      [[110, 120, 130],\n",
    "                       [140, 150, 160],\n",
    "                       [170, 180, 190]],\n",
    "                      \n",
    "                      [[210, 220, 230],\n",
    "                       [240, 250, 260],\n",
    "                       [270, 280, 290]],\n",
    "                      \n",
    "                      [[310, 320, 330],\n",
    "                       [340, 350, 360],\n",
    "                       [370, 380, 390]]])\n",
    "\n",
    "# a) Find all elements in the 3D array data cube that are greater than 100.\n",
    "greater_than_100 = data_cube[data_cube > 100]\n",
    "print(\"Elements greater than 100:\", greater_than_100)\n",
    "\n",
    "# b) Extract a sub-array from the 3D array data cube containing all elements that are divisible by 20.\n",
    "divisible_by_20 = data_cube[data_cube % 20 == 0]\n",
    "print(\"Elements divisible by 20:\", divisible_by_20)\n",
    "\n",
    "# c) Create a boolean mask for elements in the 3D array data cube greater than 250 and less than 350, and then use the mask to extract the corresponding elements.\n",
    "mask = (data_cube > 250) & (data_cube < 350)\n",
    "elements_between_250_and_350 = data_cube[mask]\n",
    "print(\"Elements between 250 and 350:\", elements_between_250_and_350)\n"
   ]
  },
  {
   "cell_type": "markdown",
   "metadata": {},
   "source": [
    "# QNO5"
   ]
  },
  {
   "cell_type": "code",
   "execution_count": 65,
   "metadata": {},
   "outputs": [
    {
     "name": "stdout",
     "output_type": "stream",
     "text": [
      "Addition result: [15 25 35 45]\n",
      "Multiplication result: [ 50 100 150 200]\n",
      "Array3: [25 35 45 55]\n",
      "Array4: [ 30  60  90 120]\n",
      "Subtraction result: [ 5 15 25 35]\n"
     ]
    }
   ],
   "source": [
    "import numpy as np\n",
    "\n",
    "# Define the arrays\n",
    "array1 = np.array([10, 20, 30, 40])\n",
    "array2 = np.array([5])\n",
    "\n",
    "# 1. Perform an addition operation using broadcasting to add array2 to array1.\n",
    "addition_result = array1 + array2\n",
    "print(\"Addition result:\", addition_result)\n",
    "\n",
    "# 2. Perform a multiplication operation using broadcasting to multiply array1 by array2.\n",
    "multiplication_result = array1 * array2\n",
    "print(\"Multiplication result:\", multiplication_result)\n",
    "\n",
    "# 3. Create a new NumPy array, array3, that is a result of adding a scalar value of 15 to array1 using broadcasting.\n",
    "scalar_value = 15\n",
    "array3 = array1 + scalar_value\n",
    "print(\"Array3:\", array3)\n",
    "\n",
    "# 4. Create a new NumPy array, array4, that is a result of multiplying array1 by a scalar value of 3 using broadcasting.\n",
    "scalar_value = 3\n",
    "array4 = array1 * scalar_value\n",
    "print(\"Array4:\", array4)\n",
    "\n",
    "# 5. Perform a subtraction operation using broadcasting to subtract array2 from array1.\n",
    "subtraction_result = array1 - array2\n",
    "print(\"Subtraction result:\", subtraction_result)\n"
   ]
  },
  {
   "cell_type": "code",
   "execution_count": 66,
   "metadata": {},
   "outputs": [
    {
     "name": "stdout",
     "output_type": "stream",
     "text": [
      "Addition result: [[11 22]\n",
      " [13 24]\n",
      " [15 26]]\n",
      "Multiplication result: [[ 10  40]\n",
      " [ 30  80]\n",
      " [ 50 120]]\n",
      "Matrix2: [[ 6  7]\n",
      " [ 8  9]\n",
      " [10 11]]\n",
      "Matrix3: [[ 2  4]\n",
      " [ 6  8]\n",
      " [10 12]]\n",
      "Division result: [[0.1 0.1]\n",
      " [0.3 0.2]\n",
      " [0.5 0.3]]\n"
     ]
    }
   ],
   "source": [
    "import numpy as np\n",
    "\n",
    "# Define the arrays\n",
    "matrix1 = np.array([[1, 2], [3, 4], [5, 6]])\n",
    "array3 = np.array([10, 20])\n",
    "\n",
    "# 1. Perform an addition operation using broadcasting to add array3 to matrix1.\n",
    "addition_result = matrix1 + array3.reshape(1, -1)\n",
    "print(\"Addition result:\", addition_result)\n",
    "\n",
    "# 2. Perform a multiplication operation using broadcasting to multiply each column of matrix1 by array3.\n",
    "multiplication_result = matrix1 * array3.reshape(1, -1)\n",
    "print(\"Multiplication result:\", multiplication_result)\n",
    "\n",
    "# 3. Create a new NumPy array, matrix2, that is a result of adding a scalar value of 5 to matrix1 using broadcasting.\n",
    "scalar_value = 5\n",
    "matrix2 = matrix1 + scalar_value\n",
    "print(\"Matrix2:\", matrix2)\n",
    "\n",
    "# 4. Create a new NumPy array, matrix3, that is a result of multiplying matrix1 by a scalar value of 2 using broadcasting.\n",
    "scalar_value = 2\n",
    "matrix3 = matrix1 * scalar_value\n",
    "print(\"Matrix3:\", matrix3)\n",
    "\n",
    "# 5. Perform a division operation using broadcasting to divide each element of matrix1 by the corresponding element of array3.\n",
    "division_result = matrix1 / array3.reshape(1, -1)\n",
    "print(\"Division result:\", division_result)\n"
   ]
  },
  {
   "cell_type": "code",
   "execution_count": null,
   "metadata": {},
   "outputs": [],
   "source": []
  }
 ],
 "metadata": {
  "kernelspec": {
   "display_name": "Python 3",
   "language": "python",
   "name": "python3"
  },
  "language_info": {
   "codemirror_mode": {
    "name": "ipython",
    "version": 3
   },
   "file_extension": ".py",
   "mimetype": "text/x-python",
   "name": "python",
   "nbconvert_exporter": "python",
   "pygments_lexer": "ipython3",
   "version": "3.12.0"
  }
 },
 "nbformat": 4,
 "nbformat_minor": 2
}
