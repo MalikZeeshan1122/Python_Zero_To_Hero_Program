{
 "cells": [
  {
   "cell_type": "code",
   "execution_count": 1,
   "id": "b41beb1f",
   "metadata": {},
   "outputs": [
    {
     "name": "stdout",
     "output_type": "stream",
     "text": [
      "abc\n",
      "\n"
     ]
    }
   ],
   "source": [
    "def concatenate(strings):\n",
    "    \"\"\"\n",
    "    Concatenates the given list of strings into a single string.\n",
    "    Returns the single string.\n",
    "    If the given list is empty, returns an empty string.\n",
    "\n",
    "    For example:\n",
    "    - If we call concatenate([\"a\",\"b\",\"c\"]), we'll get \"abc\" in return\n",
    "    - If we call concatenate([]), we'll get \"\" in return\n",
    "\n",
    "    Hint(s):\n",
    "    - Remember, you can create a single string from a list of multiple strings by using the join() function\n",
    "    \"\"\"\n",
    "    return ''.join(strings)\n",
    "\n",
    "# Example Usage:\n",
    "result1 = concatenate([\"a\", \"b\", \"c\"])\n",
    "print(result1)  # Output: \"abc\"\n",
    "\n",
    "result2 = concatenate([])\n",
    "print(result2)  # Output: \"\"\n"
   ]
  },
  {
   "cell_type": "code",
   "execution_count": 3,
   "id": "dcc3de6f",
   "metadata": {},
   "outputs": [
    {
     "name": "stdout",
     "output_type": "stream",
     "text": [
      "[1, 2, 3, 4]\n",
      "['a', 'd', 1, 3, 4]\n",
      "None\n"
     ]
    }
   ],
   "source": [
    "def all_but_last(seq):\n",
    "    \"\"\"\n",
    "    Returns a new list containing all but the last element in the given list.\n",
    "    If the list is empty, returns None.\n",
    "\n",
    "    For example:\n",
    "    - If we call all_but_last([1,2,3,4,5]), we'll get [1,2,3,4] in return\n",
    "    - If we call all_but_last([\"a\",\"d\",1,3,4,None]), we'll get [\"a\",\"d\",1,3,4] in return\n",
    "    - If we call all_but_last([]), we'll get None in return\n",
    "    \"\"\"\n",
    "    if not seq:\n",
    "        return None\n",
    "    return seq[:-1]\n",
    "\n",
    "# Example Usage:\n",
    "result1 = all_but_last([1, 2, 3, 4, 5])\n",
    "print(result1)  # Output: [1, 2, 3, 4]\n",
    "\n",
    "result2 = all_but_last([\"a\", \"d\", 1, 3, 4, None])\n",
    "print(result2)  # Output: [\"a\", \"d\", 1, 3, 4]\n",
    "\n",
    "result3 = all_but_last([])\n",
    "print(result3)  # Output: None\n"
   ]
  },
  {
   "cell_type": "code",
   "execution_count": 4,
   "id": "4e5c46ff",
   "metadata": {},
   "outputs": [
    {
     "name": "stdout",
     "output_type": "stream",
     "text": [
      "[1, 2, 3, 4]\n",
      "[]\n"
     ]
    }
   ],
   "source": [
    "def remove_duplicates(lst):\n",
    "    \"\"\"\n",
    "    Returns the given list without duplicates.\n",
    "    The order of the returned list doesn't matter.\n",
    "\n",
    "    For example:\n",
    "    - If we call remove_duplicates([1,2,1,3,4]), we'll get [1,2,3,4] in return\n",
    "    - If we call remove_duplicates([]), we'll get [] in return\n",
    "\n",
    "    Hint(s):\n",
    "    - Remember, you can create a set from a list, which will remove the duplicate elements\n",
    "    \"\"\"\n",
    "    return list(set(lst))\n",
    "\n",
    "# Example Usage:\n",
    "result1 = remove_duplicates([1, 2, 1, 3, 4])\n",
    "print(result1)  # Output: [1, 2, 3, 4]\n",
    "\n",
    "result2 = remove_duplicates([])\n",
    "print(result2)  # Output: []\n"
   ]
  },
  {
   "cell_type": "code",
   "execution_count": 5,
   "id": "3b5abbbd",
   "metadata": {},
   "outputs": [
    {
     "name": "stdout",
     "output_type": "stream",
     "text": [
      "[1, 2, 3, 4]\n",
      "[]\n"
     ]
    }
   ],
   "source": [
    "def remove_duplicates(lst):\n",
    "    \"\"\"\n",
    "    Returns the given list without duplicates.\n",
    "    The order of the returned list doesn't matter.\n",
    "\n",
    "    For example:\n",
    "    - If we call remove_duplicates([1,2,1,3,4]), we'll get [1,2,3,4] in return\n",
    "    - If we call remove_duplicates([]), we'll get [] in return\n",
    "\n",
    "    Hint(s):\n",
    "    - Remember, you can create a set from a list, which will remove the duplicate elements\n",
    "    \"\"\"\n",
    "    return list(set(lst))\n",
    "\n",
    "# Example Usage:\n",
    "result1 = remove_duplicates([1, 2, 1, 3, 4])\n",
    "print(result1)  # Output: [1, 2, 3, 4]\n",
    "\n",
    "result2 = remove_duplicates([])\n",
    "print(result2)  # Output: []\n"
   ]
  },
  {
   "cell_type": "code",
   "execution_count": 6,
   "id": "fe2635e7",
   "metadata": {},
   "outputs": [
    {
     "name": "stdout",
     "output_type": "stream",
     "text": [
      "[1, 2, 5, 10]\n",
      "[1]\n"
     ]
    }
   ],
   "source": [
    "def divisors(n):\n",
    "    \"\"\"\n",
    "    Returns a list with all divisors of the given number n.\n",
    "    As a reminder, a divisor is a number that evenly divides another number.\n",
    "    The returned list should include 1 and the given number n itself.\n",
    "    The order of the returned list doesn't matter.\n",
    "\n",
    "    For example:\n",
    "    - If we call divisors(10), we'll get [1,2,5,10] in return\n",
    "    - If we call divisors(1), we'll get [1] in return\n",
    "    \"\"\"\n",
    "    return [i for i in range(1, n+1) if n % i == 0]\n",
    "\n",
    "# Example Usage:\n",
    "result1 = divisors(10)\n",
    "print(result1)  # Output: [1, 2, 5, 10]\n",
    "\n",
    "result2 = divisors(1)\n",
    "print(result2)  # Output: [1]\n"
   ]
  },
  {
   "cell_type": "code",
   "execution_count": 7,
   "id": "77e893c7",
   "metadata": {},
   "outputs": [
    {
     "name": "stdout",
     "output_type": "stream",
     "text": [
      "II LovE PythoN\n",
      "i,love,python\n",
      "i,love,python\n"
     ]
    }
   ],
   "source": [
    "def capitalize_or_join_words(sentence):\n",
    "    \"\"\"\n",
    "    If the given sentence starts with *, capitalizes the first and last letters of each word in the sentence,\n",
    "    and returns the sentence without *.\n",
    "    Else, joins all the words in the given sentence, separating them with a comma, and returns the result.\n",
    "\n",
    "    For example:\n",
    "    - If we call capitalize_or_join_words(\"*i love python\"), we'll get \"I LovE PythoN\" in return.\n",
    "    - If we call capitalize_or_join_words(\"i love python\"), we'll get \"i,love,python\" in return.\n",
    "    - If we call capitalize_or_join_words(\"i love    python  \"), we'll get \"i,love,python\" in return.\n",
    "\n",
    "    Hint(s):\n",
    "    - The startswith() function checks whether a string starts with a particualr character\n",
    "    - The capitalize() function capitalizes the first letter of a string\n",
    "    - The upper() function converts all lowercase characters in a string to uppercase\n",
    "    - The join() function creates a single string from a list of multiple strings\n",
    "    \"\"\"\n",
    "    if sentence.startswith(\"*\"):\n",
    "        words = sentence[1:].split()\n",
    "        modified_words = [word[0].upper() + word[1:-1] + word[-1].upper() for word in words]\n",
    "        return \" \".join(modified_words)\n",
    "    else:\n",
    "        cleaned_words = [word.strip() for word in sentence.split() if word.strip()]\n",
    "        return \",\".join(cleaned_words)\n",
    "\n",
    "# Example Usage:\n",
    "result1 = capitalize_or_join_words(\"*i love python\")\n",
    "print(result1)  # Output: \"I LovE PythoN\"\n",
    "\n",
    "result2 = capitalize_or_join_words(\"i love python\")\n",
    "print(result2)  # Output: \"i,love,python\"\n",
    "\n",
    "result3 = capitalize_or_join_words(\"i love    python  \")\n",
    "print(result3)  # Output: \"i,love,python\"\n"
   ]
  },
  {
   "cell_type": "code",
   "execution_count": 8,
   "id": "91d782c1",
   "metadata": {},
   "outputs": [
    {
     "name": "stdout",
     "output_type": "stream",
     "text": [
      "[1, 2, 3, 4, 0, 0, 0, 0]\n"
     ]
    }
   ],
   "source": [
    "def move_zero(lst):\n",
    "    \"\"\"\n",
    "    Given a list of integers, moves all non-zero numbers to the beginning of the list and\n",
    "    moves all zeros to the end of the list.  This function returns nothing and changes the given list itself.\n",
    "\n",
    "    For example:\n",
    "    - After calling move_zero([0,1,0,2,0,3,0,4]), the given list should be [1,2,3,4,0,0,0,0] and the function returns nothing\n",
    "    - After calling move_zero([0,1,2,0,1]), the given list should be [1,2,1,0,0] and the function returns nothing\n",
    "    - After calling move_zero([1,2,3,4,5,6,7,8]), the given list should be [1,2,3,4,5,6,7,8] and the function returns nothing\n",
    "    - After calling move_zero([]), the given list should be [] and the function returns nothing\n",
    "    \"\"\"\n",
    "    # Separate non-zero and zero elements\n",
    "    non_zeros = [num for num in lst if num != 0]\n",
    "    zeros = [0] * (len(lst) - len(non_zeros))\n",
    "    \n",
    "    # Update the original list\n",
    "    lst[:] = non_zeros + zeros\n",
    "\n",
    "# Example Usage:\n",
    "my_list = [0, 1, 0, 2, 0, 3, 0, 4]\n",
    "move_zero(my_list)\n",
    "print(my_list)  # Output: [1, 2, 3, 4, 0, 0, 0, 0]\n"
   ]
  },
  {
   "cell_type": "code",
   "execution_count": null,
   "id": "4bea1ec5",
   "metadata": {},
   "outputs": [],
   "source": []
  }
 ],
 "metadata": {
  "kernelspec": {
   "display_name": "Python 3 (ipykernel)",
   "language": "python",
   "name": "python3"
  },
  "language_info": {
   "codemirror_mode": {
    "name": "ipython",
    "version": 3
   },
   "file_extension": ".py",
   "mimetype": "text/x-python",
   "name": "python",
   "nbconvert_exporter": "python",
   "pygments_lexer": "ipython3",
   "version": "3.11.4"
  }
 },
 "nbformat": 4,
 "nbformat_minor": 5
}
