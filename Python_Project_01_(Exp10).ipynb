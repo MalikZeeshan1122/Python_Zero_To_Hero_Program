{
 "cells": [
  {
   "cell_type": "markdown",
   "id": "34a5d5e4",
   "metadata": {},
   "source": [
    "# Assignment # 01 \n",
    "\n",
    "# CAI_Pre_Class_Act_Session_01"
   ]
  },
  {
   "cell_type": "markdown",
   "id": "111603ce",
   "metadata": {},
   "source": [
    "# Muhammad Zeeshan"
   ]
  },
  {
   "cell_type": "markdown",
   "id": "c34d8666",
   "metadata": {},
   "source": [
    "# Submitted By"
   ]
  },
  {
   "cell_type": "markdown",
   "id": "e5da0998",
   "metadata": {},
   "source": [
    "#  Respected Sir, Dr. Abbas Abbasi shb "
   ]
  },
  {
   "cell_type": "markdown",
   "id": "bbc1c924",
   "metadata": {},
   "source": [
    "# Activity 1: Create a Python program that prints your personal profile. Your profile should include:\n",
    "• Your Full Name\n",
    "• Your Age\n",
    "• Your Address\n",
    "• Your Email Address\n",
    "• A short description of yourself\n",
    "You should use the ”print” command, string formatting, and comments to make your program easy to read and understand.\n"
   ]
  },
  {
   "cell_type": "code",
   "execution_count": 6,
   "id": "776f675f",
   "metadata": {},
   "outputs": [
    {
     "name": "stdout",
     "output_type": "stream",
     "text": [
      "My Personal Profile in python program \n",
      "My Full Name: Muhammad Zeeshan\n",
      "My Age today: 19 years\n",
      "My Both Home addresses: Fasyal Colney Street#6 Near Mosque Bahawalpur but My Home Town is liaquatpur,Janpur,Distric RYK\n",
      "My Email Address: malikzeeshan3.1417@gmail.com\n",
      "My Description my language:  I am Artificial Intelligence Student i am aslo a Machine learning Engineer in DeepEmped Lab, The Islamia University of Bahawalpur\n"
     ]
    }
   ],
   "source": [
    "# Activity 1: Creating a Personal Profile\n",
    "# This is My Personal profile and my python program profile\n",
    "My_Full_Name = \"Muhammad Zeeshan\"\n",
    "My_Age = 19\n",
    "My_Address = \"Fasyal Colney Street#6 Near Mosque Bahawalpur but My Home Town is liaquatpur,Janpur,Distric RYK\"\n",
    "My_Email  = \"malikzeeshan3.1417@gmail.com\"\n",
    "My_description= \" I am Artificial Intelligence Student i am aslo a Machine learning Engineer in DeepEmped Lab, The Islamia University of Bahawalpur\"\n",
    "\n",
    "# we can use Print command is used to give output ,also use a String format'f' and comment is used to easy to understand program\n",
    "print ('My Personal Profile in python program ')\n",
    "print(f\"My Full Name: {My_Full_Name}\")\n",
    "print(f\"My Age today: {My_Age} years\")\n",
    "print(f\"My Both Home addresses: {My_Address}\")\n",
    "print(f\"My Email Address: {My_Email}\")\n",
    "print(f\"My Description my language: {My_description}\")\n"
   ]
  },
  {
   "cell_type": "markdown",
   "id": "9fd70d62",
   "metadata": {},
   "source": [
    "# Activity 2: Imagine you are building a calendar application. Write a Python program that prints the details of a simple\n",
    "calendar event, including:\n",
    "• Event Title\n",
    "• Date and Time\n",
    "• Location\n",
    "• Description\n",
    "Use string formatting to make the output clear and readable"
   ]
  },
  {
   "cell_type": "code",
   "execution_count": 10,
   "id": "a2a1453b",
   "metadata": {},
   "outputs": [
    {
     "name": "stdout",
     "output_type": "stream",
     "text": [
      "Calendar Event Detail \n",
      "Event: Certificate of Artificial Intelligence \n",
      "Date of Event: 23-10-23\n",
      "Event time: 04:00 PM\n",
      "Event location: DeepEmbed Lab IUB\n",
      "Event description: \"This is basically Advance Artificial Intelligence Certification \n",
      "in which we study Machine learning, deeplearning,Machine learning Mathematics and aslo Probabilty and statics\n"
     ]
    }
   ],
   "source": [
    "# Activity 2: Displaying a Simple Calendar Event\n",
    "# Calendar application Cerificate of Artificial Intelligence Event\n",
    "Event_title = \"Certificate of Artificial Intelligence\"\n",
    "Event_Data = \"23-10-23\"\n",
    "Event_time = \"04:00 PM\"\n",
    "Event_location = \"DeepEmbed Lab IUB\"\n",
    "Event_description =\"\"\"\"This is basically Advance Artificial Intelligence Certification \n",
    "in which we study Machine learning, deeplearning,Machine learning Mathematics and aslo Probabilty and statics\"\"\"\n",
    "\n",
    "# print the simple Calender event \n",
    "print(\"Calendar Event Detail \")\n",
    "print(f\"Event: {Event_title} \")\n",
    "print(f\"Date of Event: {Event_Data}\")\n",
    "print(f\"Event time: {Event_time}\")\n",
    "print(f\"Event location: {Event_location}\")\n",
    "print(f\"Event description: {Event_description}\")\n",
    "\n"
   ]
  },
  {
   "cell_type": "markdown",
   "id": "dbb0d45e",
   "metadata": {},
   "source": [
    "# Activity 3: Create a program that prints a multi-line poem. Choose a poem that you like and format it in your Python\n",
    "program using escape sequences for line breaks. Ensure that your program includes comments to explain the poem’s source\n",
    "or author.\n"
   ]
  },
  {
   "cell_type": "code",
   "execution_count": 42,
   "id": "cb7fed03",
   "metadata": {},
   "outputs": [
    {
     "name": "stdout",
     "output_type": "stream",
     "text": [
      "Poem: Auther is Robert Frost but i am also program it in python in first time \n",
      "Poem: Robert_Frost_Poem\n",
      "Two roads diverged in a yellow wood,\n",
      "And sorry I could not travel both\n",
      "And be one traveler, long I stood\n",
      "And looked down one as far as I could\n",
      "To where it bent in the undergrowth;\n",
      "\n",
      "Then took the other, as just as fair,\n",
      "And having perhaps the better claim,\n",
      "Because it was grassy and wanted wear;\n",
      "Though as for that the passing there\n",
      "Had worn them really about the same,\n",
      "\n",
      "And both that morning equally lay\n",
      "In leaves no step had trodden black.\n",
      "Oh, I kept the first for another day!\n",
      "Yet knowing how way leads on to way,\n",
      "I doubted if I should ever come back.\n",
      "\n",
      "I shall be telling this with a sigh\n",
      "Somewhere ages and ages hence:\n",
      "Two roads diverged in a wood, and I—\n",
      "I took the one less traveled by,\n",
      "And that has made all the difference\n"
     ]
    }
   ],
   "source": [
    "# Activity 3: Printing a Multi-Line Poem\n",
    "# program of Mult_line poem in python \n",
    "\n",
    "# Poem: \"The Road Not Taken\" by Robert Frost\n",
    "Robert_Frost_poem = \"\"\"Two roads diverged in a yellow wood,\n",
    "And sorry I could not travel both\n",
    "And be one traveler, long I stood\n",
    "And looked down one as far as I could\n",
    "To where it bent in the undergrowth;\n",
    "\n",
    "Then took the other, as just as fair,\n",
    "And having perhaps the better claim,\n",
    "Because it was grassy and wanted wear;\n",
    "Though as for that the passing there\n",
    "Had worn them really about the same,\n",
    "\n",
    "And both that morning equally lay\n",
    "In leaves no step had trodden black.\n",
    "Oh, I kept the first for another day!\n",
    "Yet knowing how way leads on to way,\n",
    "I doubted if I should ever come back.\n",
    "\n",
    "I shall be telling this with a sigh\n",
    "Somewhere ages and ages hence:\n",
    "Two roads diverged in a wood, and I—\n",
    "I took the one less traveled by,\n",
    "And that has made all the difference\"\"\"\n",
    "print(\"Poem: Auther is Robert Frost but i am also program it in python in first time \")\n",
    "\n",
    "print(\"Poem: Robert_Frost_Poem\")\n",
    "\n",
    "print(Robert_Frost_poem)\n",
    "\n",
    "\n"
   ]
  },
  {
   "cell_type": "markdown",
   "id": "6f2c49ea",
   "metadata": {},
   "source": [
    "# Activity 4: Create a Python program to calculate the total cost of groceries. Your program should:\n",
    "• Define the prices of various grocery items.\n",
    "• Calculate the total cost of groceries purchased.\n",
    "• Display the item names, quantities, prices, and the total cost.\n"
   ]
  },
  {
   "cell_type": "code",
   "execution_count": 24,
   "id": "400e0092",
   "metadata": {},
   "outputs": [
    {
     "name": "stdout",
     "output_type": "stream",
     "text": [
      "Malik Zeeshan Grocery Store item List \n",
      "Apple (5 units) - $1.00 each item - Total: $5.00\n",
      "Banana (12 units) - $0.50 each item - Total: $6.00\n",
      "Mongo (4 units) - $2.00 each item - Total: $8.00\n",
      "Milk (3 units) - $0.40 each item - Total: $1.20\n",
      "Rice (9 units) - $1.50 each item - Total: $13.50\n",
      "Total Cost of Groceries: $33.7\n"
     ]
    }
   ],
   "source": [
    "# Activity 4 : Simple Grocery Shopping\n",
    "# define prices of grocery items\n",
    "\n",
    "item_prices = {\"Apple\": 1, \"Banana\": 0.5, \"Mongo\": 2,\"Milk\": 0.4,\"Rice\": 1.5, }\n",
    "\n",
    "# define quantites of grocery prices where we purchased\n",
    "item_quantites = {\"Apple\": 5,\"Banana\": 12, \"Mongo\": 4, \"Milk\": 3, \"Rice\": 9,}\n",
    "\n",
    "# Calculate the total price of Groceries items\n",
    "total_cost = sum(item_prices[item] * item_quantites[item] for item in item_prices)\n",
    "\n",
    "# Display the item names,quantites,prices and total cost\n",
    "\n",
    "print(\"Malik Zeeshan Grocery Store item List \")\n",
    "for item in item_prices:\n",
    "    price = item_prices[item]\n",
    "    quantity = item_quantites[item]\n",
    "    total_item = price * quantity\n",
    "    print(f\"{item} ({quantity} units) - ${price:.2f} each item - Total: ${total_item:.2f}\")\n",
    "\n",
    "print(f\"Total Cost of Groceries: ${total_cost}\")\n",
    "          \n"
   ]
  },
  {
   "cell_type": "markdown",
   "id": "8d31feec",
   "metadata": {},
   "source": [
    "# Activity 5: Create a Python program to calculate monthly loan payments for a given principal amount, interest rate, and\n",
    "loan term. Your program should:\n",
    "- Prompt the user for the loan amount, interest rate, and loan term (in years). - Calculate the monthly payment using the\n",
    "formula for loan amortization. - Display the result, ensuring that it’s formatted as currency"
   ]
  },
  {
   "cell_type": "markdown",
   "id": "0da7ccbb",
   "metadata": {},
   "source": [
    "# The formula for calculating the monthly payment of a loan based on the principal amount, monthly interest rate, and the number of monthly payments (loan term in months) is as follows:.\n",
    "\n"
   ]
  },
  {
   "cell_type": "markdown",
   "id": "57f8ac05",
   "metadata": {},
   "source": [
    "# The monthly interest rate is the interest rate expressed on a monthly basis. To convert an annual interest rate to a monthly interest rate, you typically divide the annual rate by 12 (the number of months in a year). The formula to calculate the monthly interest rate is as follows:\n",
    "\n",
    "Monthly Interest Rate\n",
    "=\n",
    "Annual Interest Rate\n",
    "12\n",
    "Monthly Interest Rate= \n",
    "12\n",
    "Annual Interest Rate\n",
    "​\n",
    " \n",
    "\n",
    "For example, if you have an annual interest rate of 6%, the monthly interest rate would be:\n",
    "\n",
    "Monthly Interest Rate\n",
    "=\n",
    "6\n",
    "12\n",
    "=\n",
    "0.5\n",
    "%\n",
    "Monthly Interest Rate= \n",
    "12\n",
    "6\n",
    "​\n",
    " =0.5%\n",
    "\n",
    "So, in this case, the monthly interest rate is 0.5% (or 0.005 as a decimal).\n"
   ]
  },
  {
   "cell_type": "markdown",
   "id": "25fb56e9",
   "metadata": {},
   "source": [
    "# Monthly Payment=P⋅r⋅(1+r)**n/(1+r)**n−1"
   ]
  },
  {
   "cell_type": "markdown",
   "id": "32b691cd",
   "metadata": {},
   "source": [
    "P is the principal amount (the initial loan amount).\n",
    "\n",
    "r is the monthly interest rate (annual interest rate divided by 12 and expressed as a decimal).\n",
    "\n",
    "n is the number of monthly payments (loan term in months)."
   ]
  },
  {
   "cell_type": "code",
   "execution_count": null,
   "id": "375df1fa",
   "metadata": {},
   "outputs": [],
   "source": [
    "# Activity 5: Calculating Loan Payments\n",
    "\n",
    "# This is very important topics in Accounting and econmoics i am also done \n",
    "# Prompt the user loan amount input\n",
    "principal_P = float(input(\"Enter the loan amount: $\"))\n",
    "annual_interest_rate_r = float(input(\"Enter the annual interest rate \"))\n",
    "loan_term_years = int(input(\"Enter the loan in (years): \"))\n",
    "\n",
    "#Calculate the monthly interest rate = annual_interest_rate/12\n",
    "\n",
    "monthly_interest_rate_r = annual_interest_rate/12\n",
    "\n",
    "#Calualate the number of monthly payments \n",
    "number_monthly_payments_n = loan_term_years * 12\n",
    "\n",
    "#Calculate the monthly payment using the loan amortization formula\n",
    "\n",
    "monthly_payment = principal_P *(monthly_interest_rate_r * (1 + monthly_interest_rate_r) ** number_monthly_payments_n)/((1 + monthly_interest_rate_r) ** number_monthly_payments_n - 1)\n",
    "\n",
    "# Display the monthly payment as currency \n",
    "print(f\"Your monthly loan payment is : $ {monthly_payment:.2f}\")\n",
    "\n"
   ]
  },
  {
   "cell_type": "markdown",
   "id": "8cd1b4ec",
   "metadata": {},
   "source": [
    "# Activity 6: Imagine you are a teacher, and you need to calculate students’ final grades based on their scores for assignments, quizzes, and exams. Create a Python program that:\n",
    "- Prompts the user to enter their scores for assignments, quizzes, and exams. - Calculates the final grade using a predefined\n",
    "grading formula. - Displays the final grade and a pass/fail status without using ”if” and ”else.”"
   ]
  },
  {
   "cell_type": "code",
   "execution_count": 33,
   "id": "a0c7300f",
   "metadata": {},
   "outputs": [
    {
     "name": "stdout",
     "output_type": "stream",
     "text": [
      "Enter the score for assignments (out of 100): 80\n",
      "Enter the score for quiz (out of 100): 85\n",
      "Enter the score for exams(out of 100): 90\n",
      "Your final Grade: 85.5\n",
      "Pass/Fail: Pass\n"
     ]
    }
   ],
   "source": [
    "## Activity 6: Student Grade Calculation\n",
    "\n",
    "# user to enter scores for assignments, quizzes, and exams\n",
    "assignments_score = float(input(\"Enter the score for assignments (out of 100): \"))\n",
    "quizzes_score = float(input(\"Enter the score for quiz (out of 100): \"))\n",
    "exams_score = float(input(\"Enter the score for exams(out of 100): \"))\n",
    "\n",
    "# Define the grading formula 30% assignments, 30% qizzes, 40% exams\n",
    "final_term_score = assignments_score * 0.3 + quizzes_score * 0.3 + exams_score * 0.4\n",
    "\n",
    "#Determine the pass and fail status using boolean experssion and logical operators\n",
    "pass_status = \"Fail\" * (final_term_score < 50) or \"Pass\" * (final_term_score >=50)\n",
    "\n",
    "print(f\"Your final Grade: {final_term_score}\")\n",
    "print(f\"Pass/Fail: {pass_status}\")\n",
    "\n",
    "\n",
    "\n",
    "\n",
    "\n"
   ]
  },
  {
   "cell_type": "markdown",
   "id": "de37e811",
   "metadata": {},
   "source": [
    "# Activity 7: Create a Python program that displays the current date and time in a user-friendly format. Your program\n",
    "should:\n",
    "- Import the necessary library to work with dates and times. - Retrieve the current date and time. - Display the date and\n",
    "time in a user-friendly format with an explanation of the ‘strftime‘ command.\n"
   ]
  },
  {
   "cell_type": "code",
   "execution_count": 35,
   "id": "930930dd",
   "metadata": {},
   "outputs": [
    {
     "name": "stdout",
     "output_type": "stream",
     "text": [
      "Current Date and Time:\n",
      "Monday, October 23, 2023 01:45 PM\n"
     ]
    }
   ],
   "source": [
    "# Activity 7: Date and Time Display\n",
    "\n",
    "import datetime\n",
    "\n",
    "# Retrieve the current date and time\n",
    "current_datetime = datetime.datetime.now()\n",
    "\n",
    "# Display the date and time in a user-friendly format\n",
    "formatted_datetime = current_datetime.strftime(\"%A, %B %d, %Y %I:%M %p\")\n",
    "# Explanation of the strftime format:\n",
    "# - %A: Full weekday name\n",
    "# - %B: Full month name\n",
    "# - %d: Day of the month (01, 02, ..., 31)\n",
    "# - %Y: Year (four digits)\n",
    "# - %I: Hour (01, 02, ..., 12)\n",
    "# - %M: Minute (00, 01, ..., 59)\n",
    "# - %p: AM or PM\n",
    "\n",
    "# Display the formatted date and time\n",
    "print(\"Current Date and Time:\")\n",
    "print(formatted_datetime)\n"
   ]
  },
  {
   "cell_type": "code",
   "execution_count": 36,
   "id": "dbd3404d",
   "metadata": {},
   "outputs": [
    {
     "name": "stdout",
     "output_type": "stream",
     "text": [
      "Current Date and Time:\n",
      "Monday, October 23, 2023 01:46 PM\n"
     ]
    }
   ],
   "source": [
    "from datetime import datetime\n",
    "# Get the current date and time\n",
    "current_datetime = datetime.now()\n",
    "# Display the date and time in a user-friendly format\n",
    "formatted_datetime = current_datetime.strftime(\"%A, %B %d, %Y %I:%M %p\")\n",
    "print(\"Current Date and Time:\")\n",
    "print(formatted_datetime)\n",
    "# current_datetime.strftime(\"%A, %B %d, %Y %I:%M %p\") formats the current datetime\n",
    "# to a string with the weekday, full month name, day, year, hour, and AM/PM."
   ]
  },
  {
   "cell_type": "markdown",
   "id": "e1c5f9a3",
   "metadata": {},
   "source": [
    "# Activity 8: Create a basic Python program for a simple calculator. Your program should:\n",
    "- Prompt the user to enter two numbers. - Allow the user to choose an operation (addition, subtraction, multiplication, or\n",
    "division). - Perform the chosen operation and display the result without using ”if” statements."
   ]
  },
  {
   "cell_type": "code",
   "execution_count": 38,
   "id": "3460cd9d",
   "metadata": {},
   "outputs": [
    {
     "name": "stdout",
     "output_type": "stream",
     "text": [
      "Enter the first number: 32\n",
      "Enter the second number: 33\n",
      "Choose an operation (+, -, *, /): /\n",
      "Result: 0.9696969696969697\n"
     ]
    }
   ],
   "source": [
    "# Activity 8: Basic Calculator\n",
    "# Input from the user\n",
    "number1 = float(input(\"Enter the first number: \"))\n",
    "number2 = float(input(\"Enter the second number: \"))\n",
    "operation = input(\"Choose an operation (+, -, *, /): \")\n",
    "# Perform the chosen operation without \"if\" statements\n",
    "result = (operation == '+') * (number1 + number2) + \\\n",
    "(operation == \"-\") * (number1 - number2) + \\\n",
    "(operation == \"*\") * (number1 * number2) + \\\n",
    "(operation == \"/\") * (number1 / number2)\n",
    "# Display the result\n",
    "print(f\"Result: {result}\")"
   ]
  },
  {
   "cell_type": "markdown",
   "id": "0ee32ee2",
   "metadata": {},
   "source": [
    "# Activity 9: Create a Python program for a division calculator. Your program should use exception handling to address\n",
    "potential errors.\n"
   ]
  },
  {
   "cell_type": "code",
   "execution_count": 41,
   "id": "002f77f6",
   "metadata": {},
   "outputs": [
    {
     "name": "stdout",
     "output_type": "stream",
     "text": [
      "Enter the numerator: 12\n",
      "Enter the denominator: 23\n",
      "Result: 0.52\n",
      "Division calculator program execution completed.\n"
     ]
    }
   ],
   "source": [
    "# Activity 9: Division Calculator with Exception Handling\n",
    "try:\n",
    "    # Input from the user\n",
    "    numerator = float(input(\"Enter the numerator: \"))\n",
    "    denominator = float(input(\"Enter the denominator: \"))\n",
    "    # Attempt division\n",
    "    result = numerator / denominator\n",
    "except ZeroDivisionError:\n",
    "    print(\"Error: Division by zero is not allowed.\")\n",
    "except ValueError:\n",
    "    print(\"Error: Invalid input. Please enter numeric values.\")\n",
    "except Exception as e:\n",
    "    print(f\"An error occurred: {e}\")\n",
    "else:\n",
    "    print(f\"Result: {result:.2f}\")\n",
    "finally:\n",
    "    print(\"Division calculator program execution completed.\")\n"
   ]
  },
  {
   "cell_type": "code",
   "execution_count": null,
   "id": "78f8c671",
   "metadata": {},
   "outputs": [],
   "source": []
  }
 ],
 "metadata": {
  "kernelspec": {
   "display_name": "Python 3 (ipykernel)",
   "language": "python",
   "name": "python3"
  },
  "language_info": {
   "codemirror_mode": {
    "name": "ipython",
    "version": 3
   },
   "file_extension": ".py",
   "mimetype": "text/x-python",
   "name": "python",
   "nbconvert_exporter": "python",
   "pygments_lexer": "ipython3",
   "version": "3.11.4"
  }
 },
 "nbformat": 4,
 "nbformat_minor": 5
}
