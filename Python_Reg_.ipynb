{
 "cells": [
  {
   "cell_type": "markdown",
   "id": "6e334fcb",
   "metadata": {},
   "source": [
    "# Problem #1 \n",
    "\n",
    "# Muhammad Zeeshan"
   ]
  },
  {
   "cell_type": "code",
   "execution_count": 28,
   "id": "50a66eab",
   "metadata": {},
   "outputs": [
    {
     "name": "stdout",
     "output_type": "stream",
     "text": [
      "ahmed@example.com\n",
      "ali@example.com\n",
      "amna@example.com\n",
      "bilal@example.com\n",
      "fatima@example.com\n",
      "hassan@example.com\n",
      "maryam@example.com\n",
      "nashit@example.com\n",
      "saba@example.com\n",
      "usman@example.com\n",
      "ayesha@example.com\n",
      "saad@example.com\n",
      "zainab@example.com\n",
      "tariq@example.com\n",
      "fariha@example.com\n",
      "talha@example.com\n",
      "farah@example.com\n",
      "imran@example.com\n",
      "sadaf@example.com\n",
      "nasir@example.com\n"
     ]
    }
   ],
   "source": [
    "with open(r\"C:\\Users\\hp.DESKTOP-G2KULAS\\Downloads\\Files_for_Class_Activities_Session_08\\contacts.txt\", \"r\") as file:\n",
    "    contents = file.read()\n",
    "\n",
    "    \n",
    "    email_addresses = re.findall(r'\\S+@\\S+', contents)\n",
    "\n",
    "\n",
    "    for email in email_addresses:\n",
    "        print(email)\n"
   ]
  },
  {
   "cell_type": "markdown",
   "id": "233dc1cf",
   "metadata": {},
   "source": [
    "# Problem#2"
   ]
  },
  {
   "cell_type": "code",
   "execution_count": 29,
   "id": "c38ebdfb",
   "metadata": {},
   "outputs": [
    {
     "name": "stdout",
     "output_type": "stream",
     "text": [
      "enter an email address: malikzeeshan@gmail.com\n",
      "valid email \n"
     ]
    }
   ],
   "source": [
    "import re\n",
    "\n",
    "\n",
    "def validate_email(email):\n",
    "    \n",
    "    pattern = r'^\\S+@\\S+\\.\\S+$'\n",
    "\n",
    "\n",
    "    if re.match(pattern, email):\n",
    "        return True\n",
    "    else:\n",
    "        return False\n",
    "\n",
    "\n",
    "user_email = input(\"enter an email address: \")\n",
    "\n",
    "\n",
    "if validate_email(user_email):\n",
    "    print(\"valid email \")\n",
    "    \n",
    "else:\n",
    "    print(\"invalid email\")\n"
   ]
  },
  {
   "cell_type": "code",
   "execution_count": 30,
   "id": "3d582fbc",
   "metadata": {},
   "outputs": [
    {
     "name": "stdout",
     "output_type": "stream",
     "text": [
      "Enter an email address: mertrtgr\n",
      "invalid email Address.\n"
     ]
    }
   ],
   "source": [
    "\n",
    "def validate_email(email):\n",
    "    pattern = r'^[a-zA-Z0-9._-]+@[a-zA-Z0-9.-]+\\.[a-zA-Z]{2,}$'\n",
    "    return re.match(pattern, email)\n",
    "\n",
    "\n",
    "user_email = input(\"Enter an email address: \")\n",
    "\n",
    "\n",
    "if validate_email(user_email):\n",
    "    print(\"valid email Address.\")\n",
    "else:\n",
    "    print(\"invalid email Address.\")"
   ]
  },
  {
   "cell_type": "markdown",
   "id": "38652341",
   "metadata": {},
   "source": [
    "# Probelm #3"
   ]
  },
  {
   "cell_type": "code",
   "execution_count": 31,
   "id": "c45922b8",
   "metadata": {},
   "outputs": [
    {
     "name": "stdout",
     "output_type": "stream",
     "text": [
      "enter a password: 3453453342342\n",
      "valid Password.\n"
     ]
    }
   ],
   "source": [
    "import re\n",
    "\n",
    "def validate_password(password):\n",
    "   \n",
    "    pattern = r'^[a-zA-Z0-9]{6,}$'\n",
    "    return re.match(pattern, password)\n",
    "\n",
    "user_password = input(\"enter a password: \")\n",
    "\n",
    "if validate_password(user_password):\n",
    "    print(\"valid Password.\")\n",
    "else:\n",
    "    \n",
    "    \n",
    "    print(\"invalid Password.\")\n"
   ]
  },
  {
   "cell_type": "markdown",
   "id": "36c8e7e4",
   "metadata": {},
   "source": [
    "# Problem #4"
   ]
  },
  {
   "cell_type": "code",
   "execution_count": 34,
   "id": "c13591a7",
   "metadata": {},
   "outputs": [
    {
     "name": "stdout",
     "output_type": "stream",
     "text": [
      "enter a Pakistan NIC number: 3423542342342342342\n",
      "invalid Pakistan NIC Number.\n"
     ]
    }
   ],
   "source": [
    "import re\n",
    "\n",
    "def validate_pakistan_nic(nic_number):\n",
    "    pattern = r'^\\d{5}-\\d{7}-\\d$'  \n",
    "\n",
    "    if re.match(pattern, nic_number): \n",
    "        return True\n",
    "    else:\n",
    "        return False\n",
    "\n",
    "user_nic = input(\"enter a Pakistan NIC number: \")\n",
    "\n",
    "if validate_pakistan_nic(user_nic):\n",
    "    \n",
    "    print(\"valid Pakistan NIC Number.\")\n",
    "else:\n",
    "    print(\"invalid Pakistan NIC Number.\")\n"
   ]
  },
  {
   "cell_type": "code",
   "execution_count": null,
   "id": "73a95abf",
   "metadata": {},
   "outputs": [],
   "source": []
  }
 ],
 "metadata": {
  "kernelspec": {
   "display_name": "Python 3 (ipykernel)",
   "language": "python",
   "name": "python3"
  },
  "language_info": {
   "codemirror_mode": {
    "name": "ipython",
    "version": 3
   },
   "file_extension": ".py",
   "mimetype": "text/x-python",
   "name": "python",
   "nbconvert_exporter": "python",
   "pygments_lexer": "ipython3",
   "version": "3.11.4"
  }
 },
 "nbformat": 4,
 "nbformat_minor": 5
}
