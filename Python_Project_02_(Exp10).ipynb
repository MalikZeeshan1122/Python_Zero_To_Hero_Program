{
 "cells": [
  {
   "cell_type": "markdown",
   "id": "1f9cce62",
   "metadata": {},
   "source": [
    "# Assignment # 01 \n",
    "\n",
    "# CAI_Pre_Class_Act_Session_01"
   ]
  },
  {
   "cell_type": "markdown",
   "id": "366b3511",
   "metadata": {},
   "source": [
    "# Muhammad Zeeshan"
   ]
  },
  {
   "cell_type": "markdown",
   "id": "95cb78de",
   "metadata": {},
   "source": [
    "# Submitted By"
   ]
  },
  {
   "cell_type": "markdown",
   "id": "cc29c918",
   "metadata": {},
   "source": [
    "#  Respected Sir, Dr. Abbas Abbasi shb "
   ]
  },
  {
   "cell_type": "markdown",
   "id": "61c7c3ca",
   "metadata": {},
   "source": [
    "# Activity 1: In this activity, you will create a Python program to calculate ticket prices for a movie theater. Your program\n",
    "should use conditional statements to apply different pricing rules based on the user’s age.\n"
   ]
  },
  {
   "cell_type": "markdown",
   "id": "767bd22c",
   "metadata": {},
   "source": [
    "# Ticket Price Calculater"
   ]
  },
  {
   "cell_type": "code",
   "execution_count": null,
   "id": "8fb5a872",
   "metadata": {},
   "outputs": [],
   "source": [
    "# Activity 1: Ticket Price Calculator\n",
    "# input from the users\n",
    "\n",
    "age = int(input(\"Enter the Age: \"))\n",
    "\n",
    "#Determine the ticket price based on your age\n",
    "if age < 13:\n",
    "    ticket_price = 10 # $ chlid\n",
    "elif age > 50:\n",
    "    ticket_price = 20 # $ Adult\n",
    "elif age < 20:\n",
    "    ticket_price = 25\n",
    "else:\n",
    "    ticket_price = 15 # $ Student\n",
    "\n",
    "# Display the price of ticket \n",
    "print(f\" Ticket Price: $ {ticket_price:.2f}\")\n"
   ]
  },
  {
   "cell_type": "code",
   "execution_count": null,
   "id": "ca52e5cb",
   "metadata": {},
   "outputs": [],
   "source": [
    "age = int(input(\"enter the age of student: \"))\n",
    "          \n",
    "if age < 18:\n",
    "          print(\"studing FSC\")\n",
    "elif age < 25:\n",
    "          print(\"studing in BSC\")\n",
    "elif age < 30:\n",
    "          print(\"studing in MSC\")\n",
    "elif age < 35:\n",
    "          print(\"studing in Phd\")\n",
    "elif age >100:\n",
    "    print(\"expire\")\n",
    "print(f\" ticket price: {age:.2f}\")"
   ]
  },
  {
   "cell_type": "markdown",
   "id": "08f44f11",
   "metadata": {},
   "source": [
    "# Activity 2: In this activity, you will create a Python program to calculate the delivery charge for an online shopping order.\n",
    "Your program should use conditional statements to apply different delivery charges based on the order amount and delivery\n",
    "distance."
   ]
  },
  {
   "cell_type": "code",
   "execution_count": null,
   "id": "3332a16f",
   "metadata": {},
   "outputs": [],
   "source": [
    "# Activity 2: Delivery Charge Calculator\n",
    "# Get the order amount and delivery distance from the user\n",
    "order_amount = float(input(\"Enter the order amount: $\"))\n",
    "delivery_distance = float(input(\"Enter the delivery distance (in miles): \"))\n",
    "\n",
    "# Initialize deliery charge\n",
    "delivery_charge = 0\n",
    "\n",
    "# Apply conditional statements to calculate delivery charge\n",
    "if order_amount >= 100:\n",
    "    if delivery_distance <= 10:\n",
    "        delivery_charge = 5.00\n",
    "    else:\n",
    "        delivery_charge = 10.00\n",
    "else:\n",
    "    if delivery_distance <= 10:\n",
    "        delivery_charge = 10.00\n",
    "    else:\n",
    "        delivery_charge = 15.00\n",
    "\n",
    "# Display the delivery charge\n",
    "print(f\"Delivery Charge: ${delivery_charge:.2f}\")\n"
   ]
  },
  {
   "cell_type": "code",
   "execution_count": null,
   "id": "84e001d7",
   "metadata": {},
   "outputs": [],
   "source": [
    "order_amount = float(input(\"Enter the Order amount: $\"))\n",
    "delivery_distance = float(input(\"Enter the delivery distance (in miles): \"))\n",
    "                          \n",
    "delivery_charge = 0 \n",
    "\n",
    "if order_amount >=100:\n",
    "    if delivery_distance<=10:\n",
    "        delivery_charge = 20\n",
    "    else:\n",
    "        delivery_charge = 25\n",
    "else:\n",
    "    if delivery_distance>=10:\n",
    "        delivery_charge = 50\n",
    "    else:\n",
    "        delivery_charge = 30\n",
    "\n",
    "print(f\"delivery charge of order: ${delivery_charge}\")\n",
    "            \n",
    "\n",
    "        \n",
    "    "
   ]
  },
  {
   "cell_type": "markdown",
   "id": "802e2248",
   "metadata": {},
   "source": [
    "# Activity 3: In this activity, you will create a Python program to calculate the total cost of books for a customer at a\n",
    "bookstore. Your program should use nested conditional statements to apply different discounts based on the number of books\n",
    "and the total cost"
   ]
  },
  {
   "cell_type": "code",
   "execution_count": null,
   "id": "3363801c",
   "metadata": {},
   "outputs": [],
   "source": [
    "# Activity 3: Bookstore Discount Calculator\n",
    "# Get the number of books and the cost per book from the user\n",
    "num_books = int(input(\"Enter the number of books: \"))\n",
    "cost_per_book = float(input(\"Enter the cost per book: $\"))\n",
    "\n",
    "# Calculate the total cost before applying any discount\n",
    "total_cost = num_books * cost_per_book\n",
    "\n",
    "# Initialize discount and discount rate\n",
    "discount = 0.0\n",
    "discount_rate = 0.0\n",
    "\n",
    "# Apply discounts based on the number of books and the total cost\n",
    "if num_books >= 5:\n",
    "    if total_cost >= 100:\n",
    "        discount_rate = 0.25  # 25% discount for 5 or more books and total cost >= $100\n",
    "    else:\n",
    "        discount_rate = 0.15  # 15% discount for 5 or more books and total cost < $100\n",
    "elif num_books >= 3:\n",
    "    discount_rate = 0.1  # 10% discount for 3-4 books\n",
    "\n",
    "# Calculate the discount amount and update the total cost\n",
    "if discount_rate > 0:\n",
    "    discount = total_cost * discount_rate\n",
    "    total_cost -= discount\n",
    "\n",
    "# Display the total cost and applied discount\n",
    "print(f\"Total Cost before Discount: ${total_cost + discount:.2f}\")\n",
    "print(f\"Applied Discount: ${discount:.2f}\")\n",
    "print(f\"Total Cost after Discount: ${total_cost:.2f}\")\n"
   ]
  },
  {
   "cell_type": "markdown",
   "id": "20e7aa4a",
   "metadata": {},
   "source": [
    "# Activity 4: In this activity, you will create a Python program to help a user select a mobile plan based on their usage.\n",
    "Your program should use a nested conditional structure to suggest a suitable plan based on the number of minutes and text\n",
    "messages they use, considering different plan options for minutes and text messages"
   ]
  },
  {
   "cell_type": "code",
   "execution_count": null,
   "id": "34d82b14",
   "metadata": {},
   "outputs": [],
   "source": [
    "# Activity 4: Mobile Plan Selector\n",
    "# Get the user's usage of minutes and text messages\n",
    "minutes_used = int(input(\"Enter the number of minutes used: \"))\n",
    "messages_sent = int(input(\"Enter the number of text messages sent: \"))\n",
    "\n",
    "# Initialize variables for plan suggestions\n",
    "suggested_plan = \"Basic Plan\"\n",
    "plan_cost = 20.0\n",
    "\n",
    "# Nested conditional structure to suggest a plan\n",
    "if minutes_used > 500:\n",
    "    if messages_sent > 50:\n",
    "        suggested_plan = \"Premium Plan\"\n",
    "        plan_cost = 60.0\n",
    "    else:\n",
    "        suggested_plan = \"Standard Plan\"\n",
    "        plan_cost = 40.0\n",
    "else:\n",
    "    if messages_sent > 50:\n",
    "        suggested_plan = \"Standard Plan\"\n",
    "        plan_cost = 40.0\n",
    "\n",
    "# Display the suggested plan and its cost\n",
    "print(f\"Suggested Plan: {suggested_plan}\")\n",
    "print(f\"Monthly Cost: ${plan_cost:.2f}\")\n"
   ]
  },
  {
   "cell_type": "code",
   "execution_count": null,
   "id": "7e8ca575",
   "metadata": {},
   "outputs": [],
   "source": [
    "# Input from the user\n",
    "minutes_used = int(input(\"Enter the number of minutes used: \"))\n",
    "messages_sent = int(input(\"Enter the number of text messages sent: \"))\n",
    "# Initialize plan options\n",
    "best_plan = None\n",
    "\n",
    "# Nested conditional structure to determine the suitable mobile plan\n",
    "\n",
    "if minutes_used < 100:\n",
    "    if messages_sent < 100:\n",
    "        best_plan = \"Basic Plan\"\n",
    "    else:\n",
    "        best_plan = \"Texts Plus Plan\"\n",
    "elif minutes_used < 300:\n",
    "    if messages_sent < 300:\n",
    "        best_plan = \"Standard Plan\"\n",
    "    else:\n",
    "        best_plan = \"Texts Plus Plan\"\n",
    "else:\n",
    "    best_plan = \"Unlimited Plan\"\n",
    "# Display the suggested mobile plan\n",
    "print(f\"Suggested Mobile Plan: {best_plan}\")"
   ]
  },
  {
   "cell_type": "markdown",
   "id": "ac03bcb8",
   "metadata": {},
   "source": [
    "# Activity 5: In this activity, you will create a Python program to check a customer’s eligibility for product discounts at an\n",
    "online store. Your program should use multiple conditions, logical operators, and nested conditions to determine eligibility\n",
    "for different discount levels based on age, purchase amount, and membership status."
   ]
  },
  {
   "cell_type": "code",
   "execution_count": null,
   "id": "7d9d28c8",
   "metadata": {},
   "outputs": [],
   "source": [
    "# Activity 5: Product Discounts Based on Eligibility\n",
    "# Input from the user\n",
    "\n",
    "age = int(input(\"Enter your age: \"))\n",
    "purchase_amount = float(input(\"Enter the total purchase amount ($): \"))\n",
    "is_member = input(\"Are you a store member? (yes/no): \").lower()\n",
    "\n",
    "# Check eligibility for product discounts\n",
    "\n",
    "if (age >= 60 and purchase_amount >= 100) or (age < 60 and purchase_amount >= 200):\n",
    "    if is_member == \"yes\":\n",
    "        discount = 0.15 # 15% discount for eligible members\n",
    "    else:\n",
    "        discount = 0.10 # 10% discount for eligible non-members\n",
    "else:\n",
    "    discount = 0.0 # No discount for ineligible customers\n",
    "    \n",
    "# Display the discount percentage\n",
    "\n",
    "if discount > 0:\n",
    "    print(f\"You are eligible for a {discount * 100}% discount on your purchase.\")\n",
    "else:\n",
    "    print(\"You are not eligible for any discounts.\")\n"
   ]
  },
  {
   "cell_type": "code",
   "execution_count": null,
   "id": "5d9545c8",
   "metadata": {},
   "outputs": [],
   "source": [
    "# Get customer information\n",
    "age = int(input(\"Enter your age: \"))\n",
    "purchase_amount = float(input(\"Enter your purchase amount: $\"))\n",
    "is_member = input(\"Are you a member (yes/no)? \").lower()\n",
    "\n",
    "# Initialization of discount percentage\n",
    "discount_percentage = 0\n",
    "\n",
    "# Check eligibility for different discount levels\n",
    "\n",
    "if age >= 60:\n",
    "    discount_percentage = 15  # 15% discount for customers aged 60 or older\n",
    "elif purchase_amount >= 100:\n",
    "    if is_member == \"yes\":\n",
    "        discount_percentage = 10  # 10% discount for purchase amount >= $100 and member\n",
    "    else:\n",
    "        discount_percentage = 5   # 5% discount for purchase amount >= $100 and non-member\n",
    "else:\n",
    "    if is_member == \"yes\":\n",
    "        discount_percentage = 5   # 5% discount for members with purchase amount < $100\n",
    "\n",
    "# Determine and display eligibility and discount\n",
    "if discount_percentage > 0:\n",
    "    print(\"Congratulations! You are eligible for a discount.\")\n",
    "    print(f\"Your {discount_percentage}% discount will be applied to your purchase.\")\n",
    "else:\n",
    "    print(\"Sorry, you are not eligible for any discount.\")\n"
   ]
  },
  {
   "cell_type": "markdown",
   "id": "c3103591",
   "metadata": {},
   "source": [
    "# Activity 6: In this activity, you will create a Python program to check a student’s eligibility for admission to a university.\n",
    "Your program should use multiple conditions, logical operators, and nested conditions to determine if the student meets the\n",
    "admission criteria based on SAT scores, high school GPA, and advanced coursework completion.\n"
   ]
  },
  {
   "cell_type": "code",
   "execution_count": null,
   "id": "170677ba",
   "metadata": {},
   "outputs": [],
   "source": [
    "# Activity 6: University Admission Criteria (Revised)\n",
    "# Get student information\n",
    "\n",
    "sat_score = int(input(\"Enter your SAT score (out of 1600): \"))\n",
    "high_school_gpa = float(input(\"Enter your high school GPA (on a 4.0 scale): \"))\n",
    "advanced_coursework = input(\"Have you completed advanced coursework (yes/no)? \").lower()\n",
    "\n",
    "# Initialize admission status\n",
    "\n",
    "admission_status = \"Not Admitted\"\n",
    "\n",
    "# Check eligibility for university admission\n",
    "\n",
    "if sat_score >= 1400:\n",
    "    if high_school_gpa >= 3.5:\n",
    "        if advanced_coursework == \"yes\":\n",
    "            admission_status = \"Admitted\"\n",
    "        else:\n",
    "            admission_status = \"Waitlisted\"\n",
    "    else:\n",
    "        admission_status = \"Not Admitted\"\n",
    "else:\n",
    "    admission_status = \"Not Admitted\"\n",
    "\n",
    "# Display admission status\n",
    "if admission_status == \"Admitted\":\n",
    "    print(\"Congratulations! You are admitted to the university.\")\n",
    "elif admission_status == \"Waitlisted\":\n",
    "    print(\"You are on the waitlist. Your admission status is pending.\")\n",
    "else:\n",
    "    print(\"Sorry, you are not admitted to the university.\")\n"
   ]
  },
  {
   "cell_type": "code",
   "execution_count": null,
   "id": "5799db95",
   "metadata": {},
   "outputs": [],
   "source": [
    "# Input from the user\n",
    "sat_scores = int(input(\"Enter your SAT scores (out of 1600): \"))\n",
    "gpa = float(input(\"Enter your high school GPA (0.0-4.0): \"))\n",
    "advanced_coursework = input(\"Have you completed advanced coursework? (yes/no): \").lower()\n",
    "\n",
    "# Check eligibility for admission\n",
    "if (sat_scores >= 1400 and gpa >= 3.0) or (sat_scores >= 1200 and gpa >= 3.5):\n",
    "    if advanced_coursework == \"yes\":\n",
    "        is_eligible = True\n",
    "    else:\n",
    "        is_eligible = False\n",
    "else:\n",
    "    is_eligible = False\n",
    "    \n",
    "# Display admission eligibility status\n",
    "if is_eligible:\n",
    "    print(\"Congratulations! You are eligible for admission.\")\n",
    "else:\n",
    "    print(\"Sorry, you do not meet the admission criteria.\")\n"
   ]
  },
  {
   "cell_type": "markdown",
   "id": "f7b59991",
   "metadata": {},
   "source": [
    "# Activity 7: In this activity, you will create a Python program to simulate a light control system. Your program should use\n",
    "conditional programming with boolean variables to determine whether the light should be turned on or off based on the inputs\n",
    "of daytime and motion detection."
   ]
  },
  {
   "cell_type": "code",
   "execution_count": 1,
   "id": "9f009fff",
   "metadata": {},
   "outputs": [
    {
     "name": "stdout",
     "output_type": "stream",
     "text": [
      "Is it daytime? (True/False): true\n",
      "Is motion detected? (True/False): false\n",
      "Keep the light off.\n"
     ]
    }
   ],
   "source": [
    "# Activity 7: Light Control System\n",
    "# Input from the user\n",
    "\n",
    "is_daytime = input(\"Is it daytime? (True/False): \").lower() == \"true\"\n",
    "motion_detected = input(\"Is motion detected? (True/False): \").lower() == \"true\"\n",
    "\n",
    "# Determine whether the light should be turned on\n",
    "\n",
    "turn_on_light = is_daytime and motion_detected\n",
    "\n",
    "# Display the light control status\n",
    "if turn_on_light:\n",
    "    print(\"Turn on the light.\")\n",
    "else:\n",
    "    print(\"Keep the light off.\")"
   ]
  },
  {
   "cell_type": "code",
   "execution_count": 2,
   "id": "45d46b2a",
   "metadata": {},
   "outputs": [
    {
     "name": "stdout",
     "output_type": "stream",
     "text": [
      "Is it daytime (yes/no)? yes\n",
      "Is motion detected (yes/no)? yes\n",
      "The light is turned on.\n"
     ]
    }
   ],
   "source": [
    "# Get input from the user\n",
    "daytime = input(\"Is it daytime (yes/no)? \").lower()\n",
    "motion_detected = input(\"Is motion detected (yes/no)? \").lower()\n",
    "\n",
    "# Initialize the light status\n",
    "light_on = False\n",
    "\n",
    "# Determine whether the light should be turned on\n",
    "\n",
    "if daytime == \"yes\" and motion_detected == \"yes\":\n",
    "    light_on = True\n",
    "\n",
    "# Display the light status\n",
    "if light_on:\n",
    "    print(\"The light is turned on.\")\n",
    "else:\n",
    "    print(\"The light is turned off.\")\n"
   ]
  },
  {
   "cell_type": "markdown",
   "id": "52bcde80",
   "metadata": {},
   "source": [
    "# Activity 8: In this activity, you will create a Python program to simulate a burglar alarm system. Your program should\n",
    "use conditional programming with boolean variables to determine whether the alarm should be activated based on the inputs\n",
    "of door and window status.\n"
   ]
  },
  {
   "cell_type": "code",
   "execution_count": 5,
   "id": "e30287f2",
   "metadata": {},
   "outputs": [
    {
     "name": "stdout",
     "output_type": "stream",
     "text": [
      "Is it daytime? (True/False): false\n",
      "Is motion detected? (True/False): false\n",
      "Is the door open? (True/False): false\n",
      "Is the window open? (True/False): false\n",
      "It’s nighttime. Lights off.\n",
      "Security system disarmed.\n"
     ]
    }
   ],
   "source": [
    "# Activity 9: Smart Home Automation System\n",
    "# Input from the user\n",
    "\n",
    "is_daytime = input(\"Is it daytime? (True/False): \").lower() == \"true\"\n",
    "motion_detected = input(\"Is motion detected? (True/False): \").lower() == \"true\"\n",
    "is_door_open = input(\"Is the door open? (True/False): \").lower() == \"true\"\n",
    "is_window_open = input(\"Is the window open? (True/False): \").lower() == \"true\"\n",
    "\n",
    "# Smart home automation logic\n",
    "if is_daytime:\n",
    "    if motion_detected:\n",
    "        print(\"Turn on lights.\")\n",
    "    else:\n",
    "        print(\"Lights off.\")\n",
    "else:\n",
    "    print(\"It’s nighttime. Lights off.\")\n",
    "\n",
    "if is_door_open or is_window_open:\n",
    "    print(\"Security system activated.\")\n",
    "else:\n",
    "    print(\"Security system disarmed.\")\n"
   ]
  },
  {
   "cell_type": "code",
   "execution_count": 6,
   "id": "43fb1032",
   "metadata": {},
   "outputs": [
    {
     "name": "stdout",
     "output_type": "stream",
     "text": [
      "Is the door open (yes/no)? yes\n",
      "Are windows open (yes/no)? yes\n",
      "Burglar Alarm Activated! Secure your home.\n"
     ]
    }
   ],
   "source": [
    "# Get input from the user\n",
    "door_open = input(\"Is the door open (yes/no)? \").lower()\n",
    "window_open = input(\"Are windows open (yes/no)? \").lower()\n",
    "\n",
    "# Initialize the alarm status sleeping mode \n",
    "alarm_activated = False\n",
    "\n",
    "# Determine whether the alarm should be activated\n",
    "\n",
    "if door_open == \"yes\" or window_open == \"yes\":\n",
    "    alarm_activated = True\n",
    "\n",
    "# Display the alarm status\n",
    "if alarm_activated:\n",
    "    print(\"Burglar Alarm Activated! Secure your home.\")\n",
    "else:\n",
    "    print(\"Home Security Status: No immediate threat detected.\")\n"
   ]
  },
  {
   "cell_type": "markdown",
   "id": "f5511fd0",
   "metadata": {},
   "source": [
    "# Activity 9: In this activity, you will create a Python program to simulate a smart home automation system. Your program\n",
    "should use conditional statements, logical operators, and nested conditions to determine the state of various home automation\n",
    "devices, such as lights, heating/cooling, and security systems, based on user inputs."
   ]
  },
  {
   "cell_type": "code",
   "execution_count": 9,
   "id": "51e45a76",
   "metadata": {},
   "outputs": [
    {
     "name": "stdout",
     "output_type": "stream",
     "text": [
      "Turn on lights (yes/no)? yes\n",
      "Set the desired temperature (in Celsius): 13\n",
      "Activate security system (yes/no)? yes\n",
      "Smart Home Automation System Status:\n",
      "Lights are on.\n",
      "Heating/Cooling is on.\n",
      "Security System is activated.\n"
     ]
    }
   ],
   "source": [
    "## Smart home automation\n",
    "# Get input from the user\n",
    "light_status = input(\"Turn on lights (yes/no)? \").lower()\n",
    "temperature = float(input(\"Set the desired temperature (in Celsius): \"))\n",
    "security_status = input(\"Activate security system (yes/no)? \").lower()\n",
    "\n",
    "# Initialize device states\n",
    "lights_on = False\n",
    "heating_cooling_on = False\n",
    "security_activated = False\n",
    "\n",
    "# Control the lights\n",
    "if light_status == \"yes\":\n",
    "    lights_on = True\n",
    "\n",
    "# Control the heating/cooling system\n",
    "if temperature < 22:\n",
    "    heating_cooling_on = True\n",
    "elif temperature > 24:\n",
    "    heating_cooling_on = True\n",
    "\n",
    "# Control the security system\n",
    "if security_status == \"yes\":\n",
    "    security_activated = True\n",
    "\n",
    "# Display the state of devices\n",
    "print(\"Smart Home Automation System Status:\")\n",
    "print(f\"Lights are {'on' if lights_on else 'off'}.\")\n",
    "print(f\"Heating/Cooling is {'on' if heating_cooling_on else 'off'}.\")\n",
    "print(f\"Security System is {'activated' if security_activated else 'deactivated'}.\")\n"
   ]
  },
  {
   "cell_type": "markdown",
   "id": "195a15fd",
   "metadata": {},
   "source": [
    "# Activity 10: In this activity, you will create a Python program to simulate a weather forecasting system. Your program\n",
    "should use conditional statements, boolean variables, and nested conditions to predict the weather for the day based on userinput weather conditions, such as temperature, humidity, and wind speed."
   ]
  },
  {
   "cell_type": "code",
   "execution_count": 12,
   "id": "6aaa9012",
   "metadata": {},
   "outputs": [
    {
     "name": "stdout",
     "output_type": "stream",
     "text": [
      "Today’s weather forecast: Cool and cloudy\n"
     ]
    }
   ],
   "source": [
    "# Initialize weather prediction\n",
    "weather = \"\"\n",
    "# Predict the weather based on conditions\n",
    "if temperature >= 30:\n",
    "    if humidity > 70:\n",
    "        weather = \"Thundery conditions\"\n",
    "    else:\n",
    "        weather = \"Hot and sunny\"\n",
    "elif temperature >= 20:\n",
    "    if humidity > 50:\n",
    "        weather = \"Overcast with a chance of rain\"\n",
    "    else:\n",
    "        weather = \"Partly cloudy\"\n",
    "else:\n",
    "    weather = \"Cool and cloudy\"\n",
    "# Display the weather forecast\n",
    "print(f\"Today’s weather forecast: {weather}\")\n"
   ]
  },
  {
   "cell_type": "code",
   "execution_count": 13,
   "id": "e9054193",
   "metadata": {},
   "outputs": [
    {
     "name": "stdout",
     "output_type": "stream",
     "text": [
      "Enter the temperature (in Celsius): 30\n",
      "Enter the humidity (in percentage): 50\n",
      "Enter the wind speed (in km/h): 20\n",
      "Today's Weather Prediction:\n",
      "Weather Condition: Mild and Clear\n"
     ]
    }
   ],
   "source": [
    "# Get user input for weather conditions\n",
    "temperature = float(input(\"Enter the temperature (in Celsius): \"))\n",
    "humidity = float(input(\"Enter the humidity (in percentage): \"))\n",
    "wind_speed = float(input(\"Enter the wind speed (in km/h): \"))\n",
    "\n",
    "# Initialize weather prediction variables\n",
    "\n",
    "weather_condition = \"\"\n",
    "rain_forecast = False\n",
    "wind_forecast = False\n",
    "\n",
    "# Predict the weather condition based on input conditions\n",
    "\n",
    "if temperature > 30 and humidity > 60:\n",
    "    weather_condition = \"Hot and Humid\"\n",
    "    rain_forecast = True\n",
    "    wind_forecast = True\n",
    "elif temperature > 25 and humidity > 70:\n",
    "    weather_condition = \"Warm and Humid\"\n",
    "    rain_forecast = True\n",
    "elif temperature < 10 and wind_speed > 30:\n",
    "    weather_condition = \"Cold and Windy\"\n",
    "    wind_forecast = True\n",
    "elif temperature < 5 and humidity < 30:\n",
    "    weather_condition = \"Cold and Dry\"\n",
    "elif temperature < 0 and rain_forecast:\n",
    "    weather_condition = \"Freezing Rain\"\n",
    "    wind_forecast = True\n",
    "else:\n",
    "    weather_condition = \"Mild and Clear\"\n",
    "\n",
    "# Display the weather prediction\n",
    "print(\"Today's Weather Prediction:\")\n",
    "print(f\"Weather Condition: {weather_condition}\")\n",
    "if rain_forecast:\n",
    "    print(\"Rain is forecasted.\")\n",
    "if wind_forecast:\n",
    "    print(\"Strong winds are expected.\")\n"
   ]
  },
  {
   "cell_type": "code",
   "execution_count": null,
   "id": "16c2bfff",
   "metadata": {},
   "outputs": [],
   "source": []
  },
  {
   "cell_type": "code",
   "execution_count": null,
   "id": "c5899507",
   "metadata": {},
   "outputs": [],
   "source": []
  },
  {
   "cell_type": "code",
   "execution_count": null,
   "id": "4ee6888f",
   "metadata": {},
   "outputs": [],
   "source": []
  }
 ],
 "metadata": {
  "kernelspec": {
   "display_name": "Python 3 (ipykernel)",
   "language": "python",
   "name": "python3"
  },
  "language_info": {
   "codemirror_mode": {
    "name": "ipython",
    "version": 3
   },
   "file_extension": ".py",
   "mimetype": "text/x-python",
   "name": "python",
   "nbconvert_exporter": "python",
   "pygments_lexer": "ipython3",
   "version": "3.11.4"
  }
 },
 "nbformat": 4,
 "nbformat_minor": 5
}
